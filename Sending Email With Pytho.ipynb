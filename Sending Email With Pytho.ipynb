{
 "cells": [
  {
   "cell_type": "code",
   "execution_count": 1,
   "id": "dab3d511",
   "metadata": {},
   "outputs": [],
   "source": [
    "import smtplib"
   ]
  },
  {
   "cell_type": "code",
   "execution_count": 2,
   "id": "ac9a0b38",
   "metadata": {},
   "outputs": [],
   "source": [
    "smtp_object= smtplib.SMTP(\"smtp.gmail.com\",587)"
   ]
  },
  {
   "cell_type": "code",
   "execution_count": 3,
   "id": "a211e750",
   "metadata": {},
   "outputs": [
    {
     "data": {
      "text/plain": [
       "(250,\n",
       " b'smtp.gmail.com at your service, [2405:201:4015:50d9:b13a:3f58:916f:cba6]\\nSIZE 35882577\\n8BITMIME\\nSTARTTLS\\nENHANCEDSTATUSCODES\\nPIPELINING\\nCHUNKING\\nSMTPUTF8')"
      ]
     },
     "execution_count": 3,
     "metadata": {},
     "output_type": "execute_result"
    }
   ],
   "source": [
    "smtp_object.ehlo()"
   ]
  },
  {
   "cell_type": "code",
   "execution_count": 4,
   "id": "772c10fc",
   "metadata": {},
   "outputs": [
    {
     "data": {
      "text/plain": [
       "(220, b'2.0.0 Ready to start TLS')"
      ]
     },
     "execution_count": 4,
     "metadata": {},
     "output_type": "execute_result"
    }
   ],
   "source": [
    "smtp_object.starttls()"
   ]
  },
  {
   "cell_type": "code",
   "execution_count": 6,
   "id": "1fea53e7",
   "metadata": {},
   "outputs": [],
   "source": [
    "import getpass"
   ]
  },
  {
   "cell_type": "code",
   "execution_count": 12,
   "id": "11de3aea",
   "metadata": {},
   "outputs": [
    {
     "name": "stdout",
     "output_type": "stream",
     "text": [
      "Enter Email: ········\n",
      "Enter Password:········\n"
     ]
    },
    {
     "data": {
      "text/plain": [
       "(503,\n",
       " b'5.5.1 MAIL first. Please visit\\n5.5.1  https://support.google.com/a/answer/3221692 and review RFC 5321\\n5.5.1 specifications for more information. ls12-20020a17090b350c00b00256b67208b1sm1357554pjb.56 - gsmtp')"
      ]
     },
     "execution_count": 12,
     "metadata": {},
     "output_type": "execute_result"
    }
   ],
   "source": [
    "email = getpass.getpass('Enter Email: ')\n",
    "password = getpass.getpass('Enter Password:') # generate app passwords from accounts \n",
    "smtp_object.login(email, password)"
   ]
  },
  {
   "cell_type": "code",
   "execution_count": 15,
   "id": "312b9a60",
   "metadata": {},
   "outputs": [
    {
     "name": "stdout",
     "output_type": "stream",
     "text": [
      "enter reciver gmail here sahilnegipy@gmail.com\n",
      "enter subject here hey buddy i love it \n",
      "enter message here I hope this message finds you well. I wanted to share some exciting news with you. I just successfully sent an email using Python, and I couldn't be happier about it!  It was a significant milestone for me as I had been working on improving my Python programming skills, and sending an email programmatically was one of my goals. Thanks to the guidance and resources available online, I was able to achieve this feat, and it feels like a big step forward in my journey as a programmer.  I can't help but feel a sense of accomplishment and pride, and I wanted to share this moment of joy with you. Python is such a versatile language, and it opens up a world of possibilities. I'm excited to explore more and continue to learn and grow as a developer.  I appreciate your support and encouragement throughout my learning journey. If you have any tips, advice, or interesting Python projects in mind, I'd love to hear about them. Let's keep the conversation going!  Once again, thank you for being a part of my journey, and here's to many more exciting Python adventures in the future.\n"
     ]
    },
    {
     "data": {
      "text/plain": [
       "{}"
      ]
     },
     "execution_count": 15,
     "metadata": {},
     "output_type": "execute_result"
    }
   ],
   "source": [
    "from_address = email\n",
    "to_address = input(\"enter reciver gmail here \")\n",
    "subject = input(\"enter subject here \")\n",
    "message=input(\"enter message here \")\n",
    "msg = \"subject\"+\" \" + subject +'\\n'+message\n",
    "smtp_object.sendmail(from_address,to_address,msg)"
   ]
  },
  {
   "cell_type": "code",
   "execution_count": null,
   "id": "67ca9861",
   "metadata": {},
   "outputs": [],
   "source": []
  }
 ],
 "metadata": {
  "kernelspec": {
   "display_name": "Python 3 (ipykernel)",
   "language": "python",
   "name": "python3"
  },
  "language_info": {
   "codemirror_mode": {
    "name": "ipython",
    "version": 3
   },
   "file_extension": ".py",
   "mimetype": "text/x-python",
   "name": "python",
   "nbconvert_exporter": "python",
   "pygments_lexer": "ipython3",
   "version": "3.11.4"
  }
 },
 "nbformat": 4,
 "nbformat_minor": 5
}
